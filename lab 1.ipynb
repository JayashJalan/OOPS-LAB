{
 "cells": [
  {
   "cell_type": "code",
   "execution_count": 20,
   "id": "36c7c146",
   "metadata": {},
   "outputs": [
    {
     "name": "stdout",
     "output_type": "stream",
     "text": [
      "Enter an integer: 77\n",
      "Integer value: 77 Type: <class 'int'>\n",
      "Enter a float: 77\n",
      "Float value: 77.0 Type: <class 'float'>\n",
      "Enter a string: i\n",
      "String value: i Type: <class 'str'>\n",
      "Enter 'True' or 'False' for a boolean: 8\n",
      "Boolean value: False Type: <class 'bool'>\n"
     ]
    }
   ],
   "source": [
    "# Reading an integer\n",
    "integer_value = int(input(\"Enter an integer: \"))\n",
    "print(\"Integer value:\", integer_value, \"Type:\", type(integer_value))\n",
    "\n",
    "# Reading a float\n",
    "float_value = float(input(\"Enter a float: \"))\n",
    "print(\"Float value:\", float_value, \"Type:\", type(float_value))\n",
    "\n",
    "# Reading a string\n",
    "string_value = input(\"Enter a string: \")\n",
    "print(\"String value:\", string_value, \"Type:\", type(string_value))\n",
    "\n",
    "# Reading a boolean\n",
    "boolean_value = input(\"Enter 'True' or 'False' for a boolean: \").capitalize()\n",
    "boolean_value = boolean_value == \"True\"\n",
    "print(\"Boolean value:\", boolean_value, \"Type:\", type(boolean_value))\n",
    "\n"
   ]
  },
  {
   "cell_type": "code",
   "execution_count": 30,
   "id": "b797a95a",
   "metadata": {},
   "outputs": [
    {
     "name": "stdout",
     "output_type": "stream",
     "text": [
      "Enter the first number: 8949.5432\n",
      "Enter the second number: 5329.5577\n",
      "Addition : 14279.10\n",
      "Subtraction: 3619.99\n",
      "Multiplication: 47697106.87\n",
      "Division: 1.68\n"
     ]
    }
   ],
   "source": [
    "num1 = float(input(\"Enter the first number: \"))\n",
    "num2 = float(input(\"Enter the second number: \"))\n",
    "\n",
    "addition_result = num1 + num2\n",
    "print(\"Addition : %.2f\" %addition_result)\n",
    "\n",
    "subtraction_result = num1 - num2\n",
    "print(\"Subtraction: %.2f\" %subtraction_result)\n",
    "\n",
    "multiplication_result = num1 * num2\n",
    "print(\"Multiplication: %.2f\" %multiplication_result)\n",
    "\n",
    "if num2 != 0:\n",
    "    division_result = num1 / num2\n",
    "    print(\"Division: %.2f\" %division_result)\n",
    "else:\n",
    "    print(\"Division: Undefined (cannot divide by zero)\")\n"
   ]
  },
  {
   "cell_type": "code",
   "execution_count": 31,
   "id": "033332c7",
   "metadata": {},
   "outputs": [
    {
     "name": "stdout",
     "output_type": "stream",
     "text": [
      "Integer value: 90\n",
      "Type: <class 'int'>\n",
      "Float value: 45.18\n",
      "Type: <class 'float'>\n",
      "String value: HELLO WORLD\n",
      "Type: <class 'str'>\n",
      "Boolean value: False\n",
      "Type: <class 'bool'>\n",
      "List value: [67, 77, 87, 97, 0]\n",
      "Type: <class 'list'>\n",
      "Tuple value: (90, 98, 76, 44, 55)\n",
      "Type: <class 'tuple'>\n",
      "Dictionary value: {'name': 'John', 'age': 25}\n",
      "Type: <class 'dict'>\n",
      "55 + 5 = 60\n",
      "55 - 5 = 50\n",
      "55 x 5 = 275\n",
      "55 / 5 = 11.0\n",
      "55 % 5 = 0\n",
      "55 ** 5 = 503284375\n"
     ]
    }
   ],
   "source": [
    "#integer data type\n",
    "integer_value = 90\n",
    "print(\"Integer value:\", integer_value)\n",
    "print(\"Type:\", type(integer_value))\n",
    "\n",
    "#float data type\n",
    "float_value = 45.18\n",
    "print(\"Float value:\", float_value)\n",
    "print(\"Type:\", type(float_value))\n",
    "\n",
    "#string data type\n",
    "string_value = \"HELLO WORLD\"\n",
    "print(\"String value:\", string_value)\n",
    "print(\"Type:\", type(string_value))\n",
    "\n",
    "#boolean data type\n",
    "boolean_value = False\n",
    "print(\"Boolean value:\", boolean_value)\n",
    "print(\"Type:\", type(boolean_value))\n",
    "\n",
    "#list data type\n",
    "list_value = [67, 77, 87, 97, 0]\n",
    "print(\"List value:\", list_value)\n",
    "print(\"Type:\", type(list_value))\n",
    "\n",
    "#tuple data type\n",
    "tuple_value = (90, 98, 76, 44, 55)\n",
    "print(\"Tuple value:\", tuple_value)\n",
    "print(\"Type:\", type(tuple_value))\n",
    "\n",
    "#dictionary data type\n",
    "dict_value = {\"name\": \"John\", \"age\": 25}\n",
    "print(\"Dictionary value:\", dict_value)\n",
    "print(\"Type:\", type(dict_value))\n",
    "\n",
    "a = 55\n",
    "b = 5\n",
    "addition = a + b\n",
    "print(f\"{a} + {b} = {addition}\")\n",
    "\n",
    "subtraction = a - b\n",
    "print(f\"{a} - {b} = {subtraction}\")\n",
    "\n",
    "multiplication = a * b\n",
    "print(f\"{a} x {b} = {multiplication}\")\n",
    "\n",
    "if b != 0:\n",
    "    division = a / b\n",
    "    print(f\"{a} / {b} = {division}\")\n",
    "else:\n",
    "    print(\"Division: Undefined (cannot divide by zero)\")\n",
    "\n",
    "modulus = a % b\n",
    "print(f\"{a} % {b} = {modulus}\")\n",
    "\n",
    "exponentiation = a ** b\n",
    "print(f\"{a} ** {b} = {exponentiation}\")\n"
   ]
  },
  {
   "cell_type": "code",
   "execution_count": 33,
   "id": "dd764cf2",
   "metadata": {},
   "outputs": [
    {
     "name": "stdout",
     "output_type": "stream",
     "text": [
      "Enter the first number: 78\n",
      "Enter the second number: 156\n",
      "Average = 117.0\n",
      "Deviation of 78.0 from average i.e 117.0 is -39.0\n",
      "Deviation of 156.0 from average i.e 117.0 is 39.0\n"
     ]
    }
   ],
   "source": [
    "\n",
    "num1 = float(input(\"Enter the first number: \"))\n",
    "num2 = float(input(\"Enter the second number: \"))\n",
    "average = (num1 + num2) / 2\n",
    "deviation1 = num1 - average\n",
    "deviation2 = num2 - average\n",
    "print(f\"Average = {average}\")\n",
    "print(f\"Deviation of {num1} from average i.e {average} is {deviation1}\")\n",
    "print(f\"Deviation of {num2} from average i.e {average} is {deviation2}\")\n"
   ]
  },
  {
   "cell_type": "code",
   "execution_count": 36,
   "id": "669230f0",
   "metadata": {},
   "outputs": [
    {
     "name": "stdout",
     "output_type": "stream",
     "text": [
      "Enter 'end' to finish billing.\n",
      "\n",
      "********BILL************\n",
      "ITEM NAME       ITEM QUANTITY       ITEM PRICE\n",
      "**********************\n",
      "Item name: Apple\n",
      "Quantity: 5\n",
      "Price per unit: 50\n",
      "Apple           5.0                    50.00\n",
      "Item name: Mango\n",
      "Quantity: 12\n",
      "Price per unit: 60\n",
      "Mango           12.0                   60.00\n",
      "Item name: Bread\n",
      "Quantity: 2\n",
      "Price per unit: 50\n",
      "Bread           2.0                    50.00\n",
      "Item name: Milk\n",
      "Quantity: 4\n",
      "Price per unit: 72\n",
      "Milk            4.0                    72.00\n",
      "Item name: Eggs\n",
      "Quantity: 12\n",
      "Price per unit: 8\n",
      "Eggs            12.0                    8.00\n",
      "Item name: end\n",
      "**********************\n",
      "TOTAL AMOUNT TO BE PAID: 1454.00 Rs\n",
      "**********************\n"
     ]
    }
   ],
   "source": [
    "total = 0\n",
    "\n",
    "print(\"Enter 'end' to finish billing.\\n\")\n",
    "\n",
    "print(\"********BILL************\")\n",
    "print(\"ITEM NAME       ITEM QUANTITY       ITEM PRICE\")\n",
    "print(\"**********************\")\n",
    "\n",
    "while True:\n",
    "    name = input(\"Item name: \")\n",
    "    if name.lower() == 'end':\n",
    "        break\n",
    "    qty = float(input(\"Quantity: \"))\n",
    "    price = float(input(\"Price per unit: \"))\n",
    "    total += qty * price\n",
    "    print(f\"{name:<15} {qty:<15} {price:>12.2f}\")\n",
    "\n",
    "print(\"**********************\")\n",
    "print(f\"TOTAL AMOUNT TO BE PAID: {total:.2f} Rs\")\n",
    "print(\"**********************\")\n"
   ]
  },
  {
   "cell_type": "code",
   "execution_count": null,
   "id": "969aabac",
   "metadata": {},
   "outputs": [],
   "source": []
  }
 ],
 "metadata": {
  "kernelspec": {
   "display_name": "Python 3 (ipykernel)",
   "language": "python",
   "name": "python3"
  },
  "language_info": {
   "codemirror_mode": {
    "name": "ipython",
    "version": 3
   },
   "file_extension": ".py",
   "mimetype": "text/x-python",
   "name": "python",
   "nbconvert_exporter": "python",
   "pygments_lexer": "ipython3",
   "version": "3.10.9"
  }
 },
 "nbformat": 4,
 "nbformat_minor": 5
}
