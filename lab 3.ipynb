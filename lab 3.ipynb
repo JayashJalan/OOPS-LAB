{
 "cells": [
  {
   "cell_type": "code",
   "execution_count": 1,
   "id": "39c5c5b7",
   "metadata": {},
   "outputs": [
    {
     "name": "stdout",
     "output_type": "stream",
     "text": [
      "Enter a number: 175\n",
      "175 is a Disarium Number\n"
     ]
    }
   ],
   "source": [
    "#disarium\n",
    "number = int(input(\"Enter a number: \"))\n",
    "num_str = str(number)\n",
    "length = len(num_str)\n",
    "total = 0\n",
    "for i in range(length):\n",
    "    digit = int(num_str[i])\n",
    "    total += digit ** (i + 1)\n",
    "if total == number:\n",
    "    print(f\"{number} is a Disarium Number\")\n",
    "else:\n",
    "    print(f\"{number} is not a Disarium Number\")\n"
   ]
  },
  {
   "cell_type": "code",
   "execution_count": 2,
   "id": "d3f8e587",
   "metadata": {},
   "outputs": [
    {
     "name": "stdout",
     "output_type": "stream",
     "text": [
      "Enter a number: 6804\n",
      "6804 is a Harshad Number\n"
     ]
    }
   ],
   "source": [
    "#harshad\n",
    "number = int(input(\"Enter a number: \"))\n",
    "digit_sum = 0\n",
    "for digit in str(number):\n",
    "    digit_sum += int(digit)\n",
    "if number % digit_sum == 0:\n",
    "    print(f\"{number} is a Harshad Number\")\n",
    "else:\n",
    "    print(f\"{number} is not a Harshad Number\")\n"
   ]
  },
  {
   "cell_type": "code",
   "execution_count": 6,
   "id": "d1ac6fe6",
   "metadata": {},
   "outputs": [
    {
     "name": "stdout",
     "output_type": "stream",
     "text": [
      "1\n",
      "153\n",
      "370\n",
      "371\n",
      "407\n"
     ]
    }
   ],
   "source": [
    "#armstrong\n",
    "for number in range(1, 1001):\n",
    "    total = 0\n",
    "    temp = number\n",
    "    while temp > 0:\n",
    "        digit = temp % 10\n",
    "        total += digit ** 3\n",
    "        temp //= 10\n",
    "    if total == number:\n",
    "        print(number)\n"
   ]
  },
  {
   "cell_type": "code",
   "execution_count": 26,
   "id": "876e81d5",
   "metadata": {},
   "outputs": [
    {
     "name": "stdout",
     "output_type": "stream",
     "text": [
      "Enter the base (X): 81\n",
      "Enter the exponent (n): 3\n",
      "The value of 81.0 raised to the power of 3 is: 531441.0\n"
     ]
    }
   ],
   "source": [
    "#X^n\n",
    "X = float(input(\"Enter the base (X): \"))\n",
    "n = int(input(\"Enter the exponent (n): \"))\n",
    "result = X ** n\n",
    "print(f\"The value of {X} raised to the power of {n} is: {result}\")\n"
   ]
  },
  {
   "cell_type": "code",
   "execution_count": 8,
   "id": "31bfe407",
   "metadata": {},
   "outputs": [
    {
     "name": "stdout",
     "output_type": "stream",
     "text": [
      "Enter value of n: 9\n",
      "Enter value of r: 2\n",
      "The value of 9C2 is: 36\n"
     ]
    }
   ],
   "source": [
    "#nCr\n",
    "import math\n",
    "n = int(input(\"Enter value of n: \"))\n",
    "r = int(input(\"Enter value of r: \"))\n",
    "nCr = math.factorial(n) // (math.factorial(r) * math.factorial(n - r))\n",
    "print(f\"The value of {n}C{r} is: {nCr}\")\n"
   ]
  },
  {
   "cell_type": "code",
   "execution_count": 11,
   "id": "fa06af52",
   "metadata": {},
   "outputs": [
    {
     "name": "stdout",
     "output_type": "stream",
     "text": [
      "Enter the number of terms in the Fibonacci series: 5\n",
      "Fibonacci Series:\n",
      "0\n",
      "1\n",
      "1\n",
      "2\n",
      "3\n"
     ]
    }
   ],
   "source": [
    "#fibonacci\n",
    "n = int(input(\"Enter the number of terms in the Fibonacci series: \"))\n",
    "x, y = 0, 1\n",
    "print(\"Fibonacci Series:\")\n",
    "for i in range(n):\n",
    "    print(x)\n",
    "    x, y = y, x + y\n"
   ]
  },
  {
   "cell_type": "code",
   "execution_count": 12,
   "id": "0bcdbc1a",
   "metadata": {},
   "outputs": [
    {
     "name": "stdout",
     "output_type": "stream",
     "text": [
      "Enter a number: 5679\n",
      "The sum of the digits in 5679 is: 27\n"
     ]
    }
   ],
   "source": [
    "#sum of digit\n",
    "numb = input(\"Enter a number: \")\n",
    "sum_of_digits = 0\n",
    "for digit in numb:\n",
    "    sum_of_digits += int(digit)\n",
    "print(f\"The sum of the digits in {numb} is: {sum_of_digits}\")\n"
   ]
  },
  {
   "cell_type": "code",
   "execution_count": 13,
   "id": "98fc7e54",
   "metadata": {},
   "outputs": [
    {
     "name": "stdout",
     "output_type": "stream",
     "text": [
      "Enter a number: 3456\n",
      "The reverse of 3456 is: 6543\n"
     ]
    }
   ],
   "source": [
    "#reverse number\n",
    "number = input(\"Enter a number: \")\n",
    "reversed_number = number[::-1]\n",
    "print(f\"The reverse of {number} is: {reversed_number}\")\n"
   ]
  },
  {
   "cell_type": "code",
   "execution_count": 22,
   "id": "679e1bbf",
   "metadata": {},
   "outputs": [
    {
     "name": "stdout",
     "output_type": "stream",
     "text": [
      "Enter a number: 496\n",
      "496 is a Perfect Number\n"
     ]
    }
   ],
   "source": [
    "#perfect number\n",
    "num = int(input(\"Enter a number: \"))\n",
    "sum_of_divisors = 0\n",
    "for i in range(1, num):\n",
    "    if num % i == 0:\n",
    "        sum_of_divisors += i\n",
    "if sum_of_divisors == num:\n",
    "    print(num, \"is a Perfect Number\")\n",
    "else:\n",
    "    print(num, \"is not a Perfect Number\")\n"
   ]
  },
  {
   "cell_type": "code",
   "execution_count": 24,
   "id": "8cdbaf66",
   "metadata": {},
   "outputs": [
    {
     "name": "stdout",
     "output_type": "stream",
     "text": [
      "Enter a number: 6777\n",
      "6777 is not a Palindrome\n"
     ]
    }
   ],
   "source": [
    "#palindrome\n",
    "num = input(\"Enter a number: \")\n",
    "if num == num[::-1]:\n",
    "    print(num, \"is a Palindrome\")\n",
    "else:\n",
    "    print(num, \"is not a Palindrome\")\n"
   ]
  },
  {
   "cell_type": "code",
   "execution_count": 23,
   "id": "d3569063",
   "metadata": {},
   "outputs": [
    {
     "name": "stdout",
     "output_type": "stream",
     "text": [
      "1 \n",
      "\n",
      "1 2 \n",
      "\n",
      "1 2 3 \n",
      "\n",
      "1 2 3 4 \n",
      "\n",
      "1 2 3 4 5 \n",
      "\n"
     ]
    }
   ],
   "source": [
    "n = 5\n",
    "for i in range(1, n + 1):\n",
    "    for j in range(1, i + 1):\n",
    "        print(j, end=\" \")\n",
    "    print()\n",
    "    print()\n"
   ]
  },
  {
   "cell_type": "code",
   "execution_count": 22,
   "id": "7d410869",
   "metadata": {},
   "outputs": [
    {
     "name": "stdout",
     "output_type": "stream",
     "text": [
      "1 \n",
      "\n",
      "2 2 \n",
      "\n",
      "3 3 3 \n",
      "\n",
      "4 4 4 4 \n",
      "\n",
      "5 5 5 5 5 \n",
      "\n"
     ]
    }
   ],
   "source": [
    "rows = 5\n",
    "for i in range(1, rows + 1):\n",
    "    for j in range(i):\n",
    "        print(i, end=\" \")\n",
    "    print()\n",
    "    print()\n"
   ]
  },
  {
   "cell_type": "code",
   "execution_count": 21,
   "id": "effdaa0e",
   "metadata": {},
   "outputs": [
    {
     "name": "stdout",
     "output_type": "stream",
     "text": [
      "A \n",
      "\n",
      "B B \n",
      "\n",
      "C C C \n",
      "\n",
      "D D D D \n",
      "\n",
      "E E E E E \n",
      "\n"
     ]
    }
   ],
   "source": [
    "N = 5\n",
    "for i in range(N):\n",
    "    for j in range(i + 1):\n",
    "        print(chr(65 + i), end=\" \")  \n",
    "    print()\n",
    "    print()\n"
   ]
  },
  {
   "cell_type": "code",
   "execution_count": 48,
   "id": "a83ca90c",
   "metadata": {},
   "outputs": [
    {
     "name": "stdout",
     "output_type": "stream",
     "text": [
      "* * * * * \n",
      "* * * * \n",
      "* * * \n",
      "* * \n",
      "* \n"
     ]
    }
   ],
   "source": [
    "\n",
    "rows = 5\n",
    "for i in range(rows, 0, -1):\n",
    "    for j in range(i):\n",
    "        print(\"*\", end=\" \")\n",
    "    print()"
   ]
  },
  {
   "cell_type": "code",
   "execution_count": 20,
   "id": "f5e668ea",
   "metadata": {},
   "outputs": [
    {
     "name": "stdout",
     "output_type": "stream",
     "text": [
      "1 2 3 4 5 \n",
      "\n",
      "1 2 3 4 \n",
      "\n",
      "1 2 3 \n",
      "\n",
      "1 2 \n",
      "\n",
      "1 \n",
      "\n"
     ]
    }
   ],
   "source": [
    "rows = 5\n",
    "for i in range(rows, 0, -1):\n",
    "    for j in range(1, i + 1):\n",
    "        print(j, end=\" \")\n",
    "    print()\n",
    "    print()\n",
    "\n"
   ]
  },
  {
   "cell_type": "code",
   "execution_count": 60,
   "id": "9faa93ae",
   "metadata": {},
   "outputs": [
    {
     "name": "stdout",
     "output_type": "stream",
     "text": [
      "     *\n",
      "    ***\n",
      "   *****\n",
      "  *******\n",
      " *********\n"
     ]
    }
   ],
   "source": [
    "\n",
    "n = 5\n",
    "for i in range(1, n + 1):\n",
    "    print(\" \" * (n - i), end=\" \")\n",
    "    print(\"*\" * (2 * i - 1))\n"
   ]
  },
  {
   "cell_type": "code",
   "execution_count": 17,
   "id": "6080eb73",
   "metadata": {},
   "outputs": [
    {
     "name": "stdout",
     "output_type": "stream",
     "text": [
      "*********\n",
      " *******\n",
      "  *****\n",
      "   ***\n",
      "    *\n"
     ]
    }
   ],
   "source": [
    "\n",
    "n = 5\n",
    "for i in range(n, 0, -1):\n",
    "    print(\" \" * (n - i), end=\"\")\n",
    "    print(\"*\" * (2 * i - 1))\n"
   ]
  },
  {
   "cell_type": "code",
   "execution_count": 54,
   "id": "d6cb58dc",
   "metadata": {},
   "outputs": [
    {
     "name": "stdout",
     "output_type": "stream",
     "text": [
      "     1\n",
      "\n",
      "    2 3 2\n",
      "\n",
      "   3 4 5 4 3\n",
      "\n",
      "  4 5 6 7 6 5 4\n",
      "\n",
      " 5 6 7 8 9 8 7 6 5\n",
      "\n"
     ]
    }
   ],
   "source": [
    "n = 5\n",
    "\n",
    "for i in range(1, n+1):\n",
    "    print(\" \" * (n - i), end=\"\")\n",
    "    for j in range(i, 2*i):\n",
    "        print(f\" {j}\", end=\"\")\n",
    "    for j in range(2*i-2, i-1, -1):\n",
    "        print(f\" {j}\", end=\"\")\n",
    "    print()\n",
    "    print()\n"
   ]
  },
  {
   "cell_type": "code",
   "execution_count": 13,
   "id": "e975c679",
   "metadata": {},
   "outputs": [
    {
     "name": "stdout",
     "output_type": "stream",
     "text": [
      "     1      \n",
      "\n",
      "    1 1     \n",
      "\n",
      "   1 2 1    \n",
      "\n",
      "  1 3 3 1   \n",
      "\n",
      " 1 4 6 4 1  \n",
      "\n",
      "1 5 10 10 5 1\n",
      "\n"
     ]
    }
   ],
   "source": [
    "n = 6\n",
    "triangle = []\n",
    "for i in range(n):\n",
    "    row = [1] * (i + 1)\n",
    "    for j in range(1, i):\n",
    "        row[j] = triangle[i - 1][j - 1] + triangle[i - 1][j]\n",
    "    triangle.append(row)\n",
    "for row in triangle:\n",
    "    print(\" \".join(map(str, row)).center(2 * n))\n",
    "    print()\n",
    "    \n"
   ]
  },
  {
   "cell_type": "code",
   "execution_count": 12,
   "id": "562c63bf",
   "metadata": {},
   "outputs": [
    {
     "name": "stdout",
     "output_type": "stream",
     "text": [
      "1 \n",
      "\n",
      "2 3 \n",
      "\n",
      "4 5 6 \n",
      "\n",
      "7 8 9 10 \n",
      "\n"
     ]
    }
   ],
   "source": [
    "n = 4\n",
    "num = 1\n",
    "for i in range(1, n + 1):\n",
    "    for j in range(i):\n",
    "        print(num, end=\" \")\n",
    "        num += 1\n",
    "    print()\n",
    "    print()\n",
    "    \n",
    "\n"
   ]
  },
  {
   "cell_type": "code",
   "execution_count": 11,
   "id": "f44d3f79",
   "metadata": {},
   "outputs": [
    {
     "name": "stdout",
     "output_type": "stream",
     "text": [
      "A \n",
      "\n",
      "A B A \n",
      "\n",
      "A B A B A \n",
      "\n",
      "A B A B A B A \n",
      "\n"
     ]
    }
   ],
   "source": [
    "n = 4 \n",
    "for i in range(1, n + 1):\n",
    "    if i % 2 != 0:\n",
    "        out = 'A'\n",
    "    else:\n",
    "        out = 'B'\n",
    "    \n",
    "    for j in range(2 * i - 1):\n",
    "        if j % 2 == 0:\n",
    "            print('A', end=\" \")\n",
    "        else:\n",
    "            print('B', end=\" \")\n",
    "    print()\n",
    "    print()\n"
   ]
  },
  {
   "cell_type": "code",
   "execution_count": 24,
   "id": "23bc324e",
   "metadata": {},
   "outputs": [
    {
     "name": "stdout",
     "output_type": "stream",
     "text": [
      "1 \n",
      "\n",
      "1 0 1 \n",
      "\n",
      "1 0 1 0 1 \n",
      "\n",
      "1 0 1 0 1 0 1 \n",
      "\n"
     ]
    }
   ],
   "source": [
    "n = 4 \n",
    "for i in range(1, n + 1):\n",
    "    if i % 2 != 0:\n",
    "        out = '1'\n",
    "    else:\n",
    "        out = '0'\n",
    "    \n",
    "    for j in range(2 * i - 1):\n",
    "        if j % 2 == 0:\n",
    "            print('1', end=\" \")\n",
    "        else:\n",
    "            print('0', end=\" \")\n",
    "    print()\n",
    "    print()\n"
   ]
  },
  {
   "cell_type": "code",
   "execution_count": null,
   "id": "5f7aebd1",
   "metadata": {},
   "outputs": [],
   "source": []
  }
 ],
 "metadata": {
  "kernelspec": {
   "display_name": "Python 3 (ipykernel)",
   "language": "python",
   "name": "python3"
  },
  "language_info": {
   "codemirror_mode": {
    "name": "ipython",
    "version": 3
   },
   "file_extension": ".py",
   "mimetype": "text/x-python",
   "name": "python",
   "nbconvert_exporter": "python",
   "pygments_lexer": "ipython3",
   "version": "3.10.9"
  }
 },
 "nbformat": 4,
 "nbformat_minor": 5
}
