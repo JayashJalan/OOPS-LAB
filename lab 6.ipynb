{
 "cells": [
  {
   "cell_type": "code",
   "execution_count": 19,
   "id": "8180d826",
   "metadata": {},
   "outputs": [
    {
     "name": "stdout",
     "output_type": "stream",
     "text": [
      "Enter x1, y1: 11 22\n",
      "Enter x2, y2: 33 44\n",
      "The distance is: 31.11\n"
     ]
    }
   ],
   "source": [
    "import math\n",
    "\n",
    "x1, y1 = map(float, input(\"Enter x1, y1: \").split())\n",
    "x2, y2 = map(float, input(\"Enter x2, y2: \").split())\n",
    "\n",
    "print(f\"The distance is: {math.sqrt((x2 - x1) ** 2 + (y2 - y1) ** 2):.2f}\")\n"
   ]
  },
  {
   "cell_type": "code",
   "execution_count": 13,
   "id": "aa6457f1",
   "metadata": {},
   "outputs": [
    {
     "name": "stdout",
     "output_type": "stream",
     "text": [
      "Enter a number: 44\n",
      "44 is even.\n"
     ]
    }
   ],
   "source": [
    "number = int(input(\"Enter a number: \"))\n",
    "print(f\"{number} is {'even' if number % 2 == 0 else 'odd'}.\")\n"
   ]
  },
  {
   "cell_type": "code",
   "execution_count": 20,
   "id": "86eeafab",
   "metadata": {},
   "outputs": [
    {
     "name": "stdout",
     "output_type": "stream",
     "text": [
      "Enter the radius: 6\n",
      "Area: 113.10\n",
      "Circumference: 37.70\n"
     ]
    }
   ],
   "source": [
    "from math import pi\n",
    "\n",
    "radius = float(input(\"Enter the radius: \"))\n",
    "print(f\"Area: {pi * radius ** 2:.2f}\")\n",
    "print(f\"Circumference: {2 * pi * radius:.2f}\")\n"
   ]
  },
  {
   "cell_type": "code",
   "execution_count": 21,
   "id": "15de05e3",
   "metadata": {},
   "outputs": [
    {
     "name": "stdout",
     "output_type": "stream",
     "text": [
      "Enter numbers separated by spaces: 12 13 14 15 16\n",
      "Sum: 70.0\n"
     ]
    }
   ],
   "source": [
    "print(\"Sum:\", sum(float(num) for num in input(\"Enter numbers separated by spaces: \").split()))\n"
   ]
  },
  {
   "cell_type": "code",
   "execution_count": null,
   "id": "4be31f73",
   "metadata": {},
   "outputs": [],
   "source": []
  }
 ],
 "metadata": {
  "kernelspec": {
   "display_name": "Python 3 (ipykernel)",
   "language": "python",
   "name": "python3"
  },
  "language_info": {
   "codemirror_mode": {
    "name": "ipython",
    "version": 3
   },
   "file_extension": ".py",
   "mimetype": "text/x-python",
   "name": "python",
   "nbconvert_exporter": "python",
   "pygments_lexer": "ipython3",
   "version": "3.10.9"
  }
 },
 "nbformat": 4,
 "nbformat_minor": 5
}
