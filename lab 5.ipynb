{
 "cells": [
  {
   "cell_type": "code",
   "execution_count": 5,
   "id": "cc9d9954",
   "metadata": {},
   "outputs": [
    {
     "name": "stdout",
     "output_type": "stream",
     "text": [
      "Original List: [11, 22, 33, 44, 55, 66, 77, 88]\n",
      "After Append (10): [11, 22, 33, 44, 55, 66, 77, 88, 10]\n",
      "After Extend ([14, 20]): [11, 22, 33, 44, 55, 66, 77, 88, 10, 14, 20]\n",
      "After Insert (5 at index 2): [11, 22, 5, 33, 44, 55, 66, 77, 88, 10, 14, 20]\n",
      "After Remove (first occurrence of 11): [22, 5, 33, 44, 55, 66, 77, 88, 10, 14, 20]\n",
      "After Pop (removed item): [22, 5, 33, 44, 55, 66, 77, 88, 10, 14]\n",
      "Popped Item: 20\n",
      "Count of 20 in the list: 0\n",
      "After Sort: [5, 10, 14, 22, 33, 44, 55, 66, 77, 88]\n",
      "After Reverse: [88, 77, 66, 55, 44, 33, 22, 14, 10, 5]\n",
      "Index of 22 in the list: 6\n",
      "Slice of List (index 1 to 4): [77, 66, 55]\n",
      "Length of the List: 10\n"
     ]
    }
   ],
   "source": [
    "def list_inbuilt_functions_demo():\n",
    "    my_list = [11, 22, 33, 44, 55, 66, 77, 88]\n",
    "    print(\"Original List:\", my_list)\n",
    "    my_list.append(10)\n",
    "    print(\"After Append (10):\", my_list)\n",
    "    my_list.extend([14, 20])\n",
    "    print(\"After Extend ([14, 20]):\", my_list)\n",
    "    my_list.insert(2, 5)\n",
    "    print(\"After Insert (5 at index 2):\", my_list)\n",
    "    my_list.remove(11)\n",
    "    print(\"After Remove (first occurrence of 11):\", my_list)\n",
    "    popped_item = my_list.pop()\n",
    "    print(\"After Pop (removed item):\", my_list)\n",
    "    print(\"Popped Item:\", popped_item)\n",
    "    count_of_twenty = my_list.count(20)\n",
    "    print(\"Count of 20 in the list:\", count_of_twenty)\n",
    "    my_list.sort()\n",
    "    print(\"After Sort:\", my_list)\n",
    "    my_list.reverse()\n",
    "    print(\"After Reverse:\", my_list)\n",
    "    index_of_twenty_two = my_list.index(22)\n",
    "    print(\"Index of 22 in the list:\", index_of_twenty_two)\n",
    "    slice_of_list = my_list[1:4]\n",
    "    print(\"Slice of List (index 1 to 4):\", slice_of_list)\n",
    "    length_of_list = len(my_list)\n",
    "    print(\"Length of the List:\", length_of_list)\n",
    "list_inbuilt_functions_demo()"
   ]
  },
  {
   "cell_type": "code",
   "execution_count": 6,
   "id": "c5c0c756",
   "metadata": {},
   "outputs": [
    {
     "name": "stdout",
     "output_type": "stream",
     "text": [
      "[22, 44, 66, 88]\n"
     ]
    }
   ],
   "source": [
    "def process_list(input_list):\n",
    "    return [x * 2 for x in input_list]\n",
    "\n",
    "my_list = [11, 22, 33, 44]\n",
    "result = process_list(my_list)\n",
    "print(result)"
   ]
  },
  {
   "cell_type": "code",
   "execution_count": 7,
   "id": "ba810341",
   "metadata": {},
   "outputs": [
    {
     "name": "stdout",
     "output_type": "stream",
     "text": [
      "[1331, 10648, 35937, 85184]\n"
     ]
    }
   ],
   "source": [
    "\"\"\"Wapp to take variable length arguments in fn and perform cube of each elements \"\"\"\n",
    "def cube_elements(*args):\n",
    "    return [x ** 3 for x in args]\n",
    "\n",
    "result = cube_elements(11, 22, 33, 44)\n",
    "print(result)"
   ]
  },
  {
   "cell_type": "code",
   "execution_count": 8,
   "id": "a68f7716",
   "metadata": {},
   "outputs": [
    {
     "name": "stdout",
     "output_type": "stream",
     "text": [
      "Move disk 1 from A to C\n",
      "Move disk 2 from A to B\n",
      "Move disk 1 from C to B\n",
      "Move disk 3 from A to C\n",
      "Move disk 1 from B to A\n",
      "Move disk 2 from B to C\n",
      "Move disk 1 from A to C\n"
     ]
    }
   ],
   "source": [
    "\"\"\"Wapp for solving tower of Hanoi problem for n = 3 disk\"\"\"\n",
    "def tower_of_hanoi(n, source, target, auxiliary):\n",
    "    if n == 1:\n",
    "        print(f\"Move disk 1 from {source} to {target}\")\n",
    "        return\n",
    "    tower_of_hanoi(n - 1, source, auxiliary, target)\n",
    "    print(f\"Move disk {n} from {source} to {target}\")\n",
    "    tower_of_hanoi(n - 1, auxiliary, target, source)\n",
    "\n",
    "tower_of_hanoi(3, 'A', 'C', 'B')\n"
   ]
  },
  {
   "cell_type": "code",
   "execution_count": 9,
   "id": "d70548a7",
   "metadata": {},
   "outputs": [
    {
     "name": "stdout",
     "output_type": "stream",
     "text": [
      "Uppercase : 6 , lowercase : 19\n",
      "(6, 19)\n"
     ]
    }
   ],
   "source": [
    "\"\"\"Wapp that accept string and calculate the number of uppercase and lowercase letters in the string \"\"\"\n",
    "def count_case(string):\n",
    "    upper_count = sum(1 for c in string if c.isupper())\n",
    "    lower_count = sum(1 for c in string if c.islower())\n",
    "    print(f\"Uppercase : {upper_count} , lowercase : {lower_count}\")\n",
    "    return upper_count, lower_count\n",
    "    \n",
    "    \n",
    "\n",
    "result = count_case(\"Welcome To The World Of Python!\")\n",
    "print(result)"
   ]
  },
  {
   "cell_type": "code",
   "execution_count": 10,
   "id": "bd623d5a",
   "metadata": {},
   "outputs": [
    {
     "name": "stdout",
     "output_type": "stream",
     "text": [
      "5\n"
     ]
    }
   ],
   "source": [
    "\"\"\"Wapp to compute gcd of two numbers. Only use comments for showing output\"\"\"\n",
    "import math\n",
    "\n",
    "def compute_gcd(a, b):\n",
    "    return math.gcd(a, b)\n",
    "\n",
    "gcd_result = compute_gcd(2345, 95)\n",
    "print(gcd_result)\n"
   ]
  },
  {
   "cell_type": "code",
   "execution_count": null,
   "id": "15e21dee",
   "metadata": {},
   "outputs": [],
   "source": []
  }
 ],
 "metadata": {
  "kernelspec": {
   "display_name": "Python 3 (ipykernel)",
   "language": "python",
   "name": "python3"
  },
  "language_info": {
   "codemirror_mode": {
    "name": "ipython",
    "version": 3
   },
   "file_extension": ".py",
   "mimetype": "text/x-python",
   "name": "python",
   "nbconvert_exporter": "python",
   "pygments_lexer": "ipython3",
   "version": "3.10.9"
  }
 },
 "nbformat": 4,
 "nbformat_minor": 5
}
