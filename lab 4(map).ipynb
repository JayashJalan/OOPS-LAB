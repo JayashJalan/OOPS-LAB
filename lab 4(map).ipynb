{
 "cells": [
  {
   "cell_type": "code",
   "execution_count": 26,
   "id": "9f6ef7b1",
   "metadata": {},
   "outputs": [
    {
     "name": "stdout",
     "output_type": "stream",
     "text": [
      "Enter numbers separated by spaces: 1 2 3\n",
      "Original List: [1, 2, 3]\n",
      "Tripled List: [3, 6, 9]\n"
     ]
    }
   ],
   "source": [
    "def triple_number(n):\n",
    "    return n * 3\n",
    "nums = input(\"Enter numbers separated by spaces: \").split()\n",
    "numbers = list(map(int, nums))\n",
    "tripled_numbers = list(map(triple_number, numbers))\n",
    "print(\"Original List:\", numbers)\n",
    "print(\"Tripled List:\", tripled_numbers)\n"
   ]
  },
  {
   "cell_type": "code",
   "execution_count": 12,
   "id": "aa761816",
   "metadata": {},
   "outputs": [
    {
     "name": "stdout",
     "output_type": "stream",
     "text": [
      "Enter numbers for List 1 separated by spaces: 1 2 3 4 5 6 7 8 \n",
      "Enter numbers for List 2 separated by spaces: 11 22 33 44 55 66\n",
      "Enter numbers for List 3 separated by spaces: 21 31 41 51\n",
      "List 1: [1, 2, 3, 4, 5, 6, 7, 8]\n",
      "List 2: [11, 22, 33, 44, 55, 66]\n",
      "List 3: [21, 31, 41, 51]\n",
      "Result: [33, 55, 77, 99]\n"
     ]
    }
   ],
   "source": [
    "l_1 = list(map(int, input(\"Enter numbers for List 1 separated by spaces: \").split()))\n",
    "l_2 = list(map(int, input(\"Enter numbers for List 2 separated by spaces: \").split()))\n",
    "l_3 = list(map(int, input(\"Enter numbers for List 3 separated by spaces: \").split()))\n",
    "result = list(map(lambda x, y, z: x + y + z, l_1, l_2, l_3))\n",
    "print(\"List 1:\", l_1)\n",
    "print(\"List 2:\", l_2)\n",
    "print(\"List 3:\", l_3)\n",
    "print(\"Result:\", result)"
   ]
  },
  {
   "cell_type": "code",
   "execution_count": 11,
   "id": "7ffe89dc",
   "metadata": {},
   "outputs": [
    {
     "name": "stdout",
     "output_type": "stream",
     "text": [
      "Enter numbers separated by spaces: 12 22 33\n",
      "Result: [1, 22, 1089]\n"
     ]
    }
   ],
   "source": [
    "def pow_num(n, i):\n",
    "    return n ** i\n",
    "nums = input(\"Enter numbers separated by spaces: \").split()\n",
    "num = list(map(int, nums))\n",
    "powd_num = []\n",
    "for i in range(len(num)):\n",
    "    powd_num.append(pow_num(num[i], i))\n",
    "print(\"Result:\", powd_num)"
   ]
  },
  {
   "cell_type": "code",
   "execution_count": 8,
   "id": "28f8abae",
   "metadata": {},
   "outputs": [
    {
     "name": "stdout",
     "output_type": "stream",
     "text": [
      "Enter numbers separated by spaces: 4 17 19 11 12 25\n",
      "Original List: [4, 17, 19, 11, 12, 25]\n",
      "Squared List: [16, 289, 361, 121, 144, 625]\n"
     ]
    }
   ],
   "source": [
    "def sq_number(n):\n",
    "    return n ** 2\n",
    "num = input(\"Enter numbers separated by spaces: \").split()\n",
    "numbers = list(map(int, num))\n",
    "sqd_numbers = list(map(sq_number, numbers))\n",
    "print(\"Original List:\", numbers)\n",
    "print(\"Squared List:\", sqd_numbers)"
   ]
  },
  {
   "cell_type": "code",
   "execution_count": 7,
   "id": "bf9b4df9",
   "metadata": {},
   "outputs": [
    {
     "name": "stdout",
     "output_type": "stream",
     "text": [
      "Enter words separated by spaces: ok jayash jalan\n",
      "[['o', 'k'], ['j', 'a', 'y', 'a', 's', 'h'], ['j', 'a', 'l', 'a', 'n']]\n"
     ]
    }
   ],
   "source": [
    "def listify(s):\n",
    "    return list(s)\n",
    "list = input(\"Enter the words separated by spaces: \").split()\n",
    "listified_list = list(map(listify, list))\n",
    "print(listified_list)"
   ]
  },
  {
   "cell_type": "code",
   "execution_count": 15,
   "id": "cb80099d",
   "metadata": {},
   "outputs": [
    {
     "name": "stdout",
     "output_type": "stream",
     "text": [
      "Enter a sequence: function\n",
      "Uppercase: FUNCTIO\n",
      "Lowercase: functio\n"
     ]
    }
   ],
   "source": [
    "def to_upper(char):\n",
    "    return char.upper()\n",
    "def to_lower(char):\n",
    "    return char.lower()\n",
    "def remove_duplicates(sequence):\n",
    "    seen = set()\n",
    "    return ''.join([char for char in sequence if not (char in seen or seen.add(char))])\n",
    "def convert_and_remove_duplicates(sequence):\n",
    "    unique_sequence = remove_duplicates(sequence)\n",
    "    upper_sequence = ''.join(map(to_upper, unique_sequence))\n",
    "    lower_sequence = ''.join(map(to_lower, unique_sequence))\n",
    "    return upper_sequence, lower_sequence\n",
    "sequence = input(\"Enter a sequence: \")\n",
    "uppercase, lowercase = convert_and_remove_duplicates(sequence)\n",
    "print(\"Uppercase:\", uppercase)\n",
    "print(\"Lowercase:\", lowercase)"
   ]
  },
  {
   "cell_type": "code",
   "execution_count": 16,
   "id": "bf838f93",
   "metadata": {},
   "outputs": [
    {
     "name": "stdout",
     "output_type": "stream",
     "text": [
      "Enter numbers for List 1 separated by spaces: 1 2 3 4 5 6 7\n",
      "Enter numbers for List 2 separated by spaces: 2 4 5 6 7 8 9\n",
      "List 1: [1, 2, 3, 4, 5, 6, 7]\n",
      "List 2: [2, 4, 5, 6, 7, 8, 9]\n",
      "Sum of lists: [3, 6, 8, 10, 12, 14, 16]\n",
      "Difference of lists: [-1, -2, -2, -2, -2, -2, -2]\n"
     ]
    }
   ],
   "source": [
    "def add_numbers(x, y):\n",
    "    return x + y\n",
    "def subs_numbers(x, y):\n",
    "    return x - y\n",
    "list_1 = list(map(int, input(\"Enter numbers for List 1 separated by spaces: \").split()))\n",
    "list_2 = list(map(int, input(\"Enter numbers for List 2 separated by spaces: \").split()))\n",
    "sum_list = list(map(add_numbers, list_1, list_2))\n",
    "diff_list = list(map(subs_numbers, list_1, list_2))\n",
    "print(\"List 1:\", list_1)\n",
    "print(\"List 2:\", list_2)\n",
    "print(\"Sum of lists:\", sum_list)\n",
    "print(\"Difference of lists:\", diff_list)"
   ]
  },
  {
   "cell_type": "code",
   "execution_count": 21,
   "id": "712105b6",
   "metadata": {},
   "outputs": [
    {
     "name": "stdout",
     "output_type": "stream",
     "text": [
      "Enter integers for the list separated by spaces: 2 3 \n",
      "Enter integers for the tuple separated by spaces: 1 2\n",
      "List of strings from the list: ['2', '3']\n",
      "List of strings from the tuple: ['1', '2']\n",
      "Final combined list of strings: ['2', '3', '1', '2']\n"
     ]
    }
   ],
   "source": [
    "def convert_to_string(elements):\n",
    "    return list(map(str, elements))\n",
    "list_input = list(map(int, input(\"Enter integers for the list separated by spaces: \").split()))\n",
    "tuple_input = tuple(map(int, input(\"Enter integers for the tuple separated by spaces: \").split()))\n",
    "string_list = convert_to_string(list_input)\n",
    "string_tuple = convert_to_string(tuple_input)\n",
    "final_string_list = string_list + string_tuple\n",
    "print(\"List of strings from the list:\", string_list)\n",
    "print(\"List of strings from the tuple:\", string_tuple)\n",
    "print(\"Final combined list of strings:\", final_string_list)"
   ]
  },
  {
   "cell_type": "code",
   "execution_count": 23,
   "id": "a37eb02e",
   "metadata": {},
   "outputs": [
    {
     "name": "stdout",
     "output_type": "stream",
     "text": [
      "Enter integers for the tuple separated by spaces: 1 2 3 4 5\n",
      "Enter indices of elements to select (separated by spaces): 0 1 2\n",
      "Enter a string value to convert to an integer: 7\n",
      "New List: [1, 2, 3]\n",
      "Converted Integer: 7\n"
     ]
    }
   ],
   "source": [
    "tuple_input = tuple(map(int, input(\"Enter integers for the tuple separated by spaces: \").split()))\n",
    "indices_input = input(\"Enter indices of elements to select (separated by spaces): \").split()\n",
    "indices = list(map(int, indices_input))\n",
    "new_list = list(map(lambda i: tuple_input[i], indices))\n",
    "string_value = input(\"Enter a string value to convert to an integer: \")\n",
    "converted_integer = int(string_value)\n",
    "print(\"New List:\", new_list)\n",
    "print(\"Converted Integer:\", converted_integer)"
   ]
  },
  {
   "cell_type": "code",
   "execution_count": 24,
   "id": "5a3fb35d",
   "metadata": {},
   "outputs": [
    {
     "name": "stdout",
     "output_type": "stream",
     "text": [
      "Enter the number of Fibonacci numbers to compute: 9\n",
      "Squares of the first 9 Fibonacci numbers: [0, 1, 1, 4, 9, 25, 64, 169, 441]\n"
     ]
    }
   ],
   "source": [
    "def fibonacci(n):\n",
    "    fib_sequence = [0, 1]\n",
    "    for i in range(2, n):\n",
    "        fib_sequence.append(fib_sequence[-1] + fib_sequence[-2])\n",
    "    return fib_sequence[:n]\n",
    "n = int(input(\"Enter the number of Fibonacci numbers to compute: \"))\n",
    "squared_fib_numbers = list(map(lambda x: x ** 2, fibonacci(n)))\n",
    "print(\"Squares of the first\", n, \"Fibonacci numbers:\", squared_fib_numbers)"
   ]
  },
  {
   "cell_type": "code",
   "execution_count": 25,
   "id": "7b591684",
   "metadata": {},
   "outputs": [
    {
     "name": "stdout",
     "output_type": "stream",
     "text": [
      "Enter integers separated by spaces: 4 5 6 7\n",
      "Sum of the elements in the array: 22\n"
     ]
    }
   ],
   "source": [
    "array_input= input(\"Enter integers separated by spaces: \")\n",
    "array = list(map(int, array_input.split()))\n",
    "total_sum = sum(array)\n",
    "print(\"Sum of the elements in the array:\", total_sum)"
   ]
  },
  {
   "cell_type": "code",
   "execution_count": null,
   "id": "9af15402",
   "metadata": {},
   "outputs": [],
   "source": []
  }
 ],
 "metadata": {
  "kernelspec": {
   "display_name": "Python 3 (ipykernel)",
   "language": "python",
   "name": "python3"
  },
  "language_info": {
   "codemirror_mode": {
    "name": "ipython",
    "version": 3
   },
   "file_extension": ".py",
   "mimetype": "text/x-python",
   "name": "python",
   "nbconvert_exporter": "python",
   "pygments_lexer": "ipython3",
   "version": "3.10.9"
  }
 },
 "nbformat": 4,
 "nbformat_minor": 5
}
